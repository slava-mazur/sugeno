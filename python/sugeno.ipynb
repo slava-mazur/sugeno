{
 "cells": [
  {
   "cell_type": "code",
   "execution_count": 65,
   "metadata": {},
   "outputs": [],
   "source": [
    "%config IPCompleter.greedy=True\n",
    "import pandas as pd\n",
    "import numpy as np\n",
    "import plotly\n",
    "import plotly.plotly as py\n",
    "import plotly.graph_objs as go\n",
    "from scipy import linalg\n",
    "from scipy.stats import mstats\n",
    "from scipy.optimize import minimize\n",
    "from scipy.optimize import brentq\n",
    "import matplotlib.pyplot as plt\n",
    "import seaborn as sns\n",
    "import pdb\n",
    "import copy\n",
    "from sklearn import datasets as ds\n",
    "from sklearn import model_selection\n",
    "from sklearn.ensemble import AdaBoostClassifier\n",
    "from sklearn.ensemble import RandomForestClassifier\n",
    "from sklearn import svm\n",
    "%matplotlib inline"
   ]
  },
  {
   "cell_type": "code",
   "execution_count": 12,
   "metadata": {
    "collapsed": true
   },
   "outputs": [
    {
     "name": "stdout",
     "output_type": "stream",
     "text": [
      "Collecting sklearn\n",
      "  Downloading https://files.pythonhosted.org/packages/1e/7a/dbb3be0ce9bd5c8b7e3d87328e79063f8b263b2b1bfa4774cb1147bfcd3f/sklearn-0.0.tar.gz\n",
      "Collecting scikit-learn (from sklearn)\n",
      "\u001b[?25l  Downloading https://files.pythonhosted.org/packages/3d/2d/9fbc7baa5f44bc9e88ffb7ed32721b879bfa416573e85031e16f52569bc9/scikit_learn-0.19.1-cp36-cp36m-manylinux1_x86_64.whl (12.4MB)\n",
      "\u001b[K    100% |████████████████████████████████| 12.4MB 2.2MB/s ta 0:00:011\n",
      "\u001b[?25hBuilding wheels for collected packages: sklearn\n",
      "  Running setup.py bdist_wheel for sklearn ... \u001b[?25ldone\n",
      "\u001b[?25h  Stored in directory: /home/slava/.cache/pip/wheels/76/03/bb/589d421d27431bcd2c6da284d5f2286c8e3b2ea3cf1594c074\n",
      "Successfully built sklearn\n",
      "Installing collected packages: scikit-learn, sklearn\n",
      "Successfully installed scikit-learn-0.19.1 sklearn-0.0\n"
     ]
    }
   ],
   "source": [
    "#!pip install pandas\n",
    "#!pip install plotly\n",
    "#!pip install scipy\n",
    "#!pip install matplotlib\n",
    "#!pip install seaborn\n",
    "#!pip install sklearn"
   ]
  },
  {
   "cell_type": "code",
   "execution_count": 54,
   "metadata": {},
   "outputs": [],
   "source": [
    "plotly.tools.set_credentials_file(username='slava-mazur', api_key='0Up94ov3B6l4c11Pbxrc')"
   ]
  },
  {
   "cell_type": "code",
   "execution_count": 227,
   "metadata": {},
   "outputs": [],
   "source": [
    "my_seed = 777\n",
    "test_size = 0.5"
   ]
  },
  {
   "cell_type": "code",
   "execution_count": 14,
   "metadata": {},
   "outputs": [
    {
     "name": "stdout",
     "output_type": "stream",
     "text": [
      "/home/slava/anaconda3/envs/anomaly/lib/python3.6/site-packages\n"
     ]
    }
   ],
   "source": [
    "from distutils.sysconfig import get_python_lib\n",
    "print(get_python_lib())"
   ]
  },
  {
   "cell_type": "code",
   "execution_count": 19,
   "metadata": {},
   "outputs": [
    {
     "data": {
      "text/plain": [
       "array([[5.1, 3.5, 1.4, 0.2],\n",
       "       [4.9, 3. , 1.4, 0.2],\n",
       "       [4.7, 3.2, 1.3, 0.2],\n",
       "       [4.6, 3.1, 1.5, 0.2],\n",
       "       [5. , 3.6, 1.4, 0.2]])"
      ]
     },
     "execution_count": 19,
     "metadata": {},
     "output_type": "execute_result"
    }
   ],
   "source": [
    "X, y = ds.load_iris(return_X_y=True)\n",
    "X[0:5,:]"
   ]
  },
  {
   "cell_type": "code",
   "execution_count": 228,
   "metadata": {},
   "outputs": [
    {
     "data": {
      "text/plain": [
       "(75, 4)"
      ]
     },
     "execution_count": 228,
     "metadata": {},
     "output_type": "execute_result"
    }
   ],
   "source": [
    "X_train, X_test, y_train, y_test = model_selection.train_test_split(X, y, test_size = test_size, random_state = my_seed)\n",
    "X_train.shape"
   ]
  },
  {
   "cell_type": "code",
   "execution_count": 292,
   "metadata": {},
   "outputs": [],
   "source": [
    "# Create a plotly trace\n",
    "def plotly_scatter(data, Class = None, text = None, show_text = False, marker_size = 3, \n",
    "                   colors = ['blue', 'red', 'gray'], fname = 'my-scatter'):\n",
    "    if (text is None) or not show_text:\n",
    "        mode = 'markers'  \n",
    "    else: \n",
    "        mode = 'markers+text'\n",
    "    traces = list()\n",
    "    if Class is None:\n",
    "        if data.shape[1] > 2:\n",
    "            trace = go.Scatter3d(\n",
    "                x = data[:,0],\n",
    "                y = data[:,1],\n",
    "                z = data[:,2],\n",
    "                mode = mode,\n",
    "                marker = dict(size = marker_size, color = colors[0], autocolorscale = False, \n",
    "                              showscale = False),\n",
    "                showlegend = False,\n",
    "                text = text,\n",
    "                hovertext = text,\n",
    "                hoverinfo = \"text\"\n",
    "            )\n",
    "        else:\n",
    "            trace = go.Scatter(\n",
    "                x = data[:,0],\n",
    "                y = data[:,1],\n",
    "                mode = mode,\n",
    "                marker = dict(size = marker_size, color = colors[0], autocolorscale = False, \n",
    "                              showscale = False),\n",
    "                showlegend = False,\n",
    "                text = text,\n",
    "                hovertext = text,\n",
    "                hoverinfo = \"text\"\n",
    "            )\n",
    "            \n",
    "        traces.append(trace)\n",
    "    else:\n",
    "        classes = set(Class)\n",
    "        clr = 0\n",
    "        for c in classes:\n",
    "            if text is None:\n",
    "                txt = None\n",
    "                hoverinfo = \"all\"\n",
    "            else:\n",
    "                txt = np.array(text)[Class == c]\n",
    "                hoverinfo = \"text\"\n",
    "            if data.shape[1] > 2:\n",
    "                trace = go.Scatter3d(\n",
    "                    name = c,\n",
    "                    x = data[Class == c, 0],\n",
    "                    y = data[Class == c, 1],\n",
    "                    z = data[Class == c, 2],\n",
    "                    mode = mode,\n",
    "                    marker = dict(size = marker_size, color = colors[clr], autocolorscale = False, \n",
    "                              showscale = False),\n",
    "                    showlegend = True,\n",
    "                    text = txt,\n",
    "                    hovertext = txt,\n",
    "                    hoverinfo = hoverinfo\n",
    "                )\n",
    "            else:\n",
    "                trace = go.Scatter(\n",
    "                    name = c,\n",
    "                    x = data[Class == c, 0],\n",
    "                    y = data[Class == c, 1],\n",
    "                    mode = mode,\n",
    "                    marker = dict(size = marker_size, color = colors[clr], autocolorscale = False, \n",
    "                              showscale = False),\n",
    "                    showlegend = True,\n",
    "                    text = txt,\n",
    "                    hovertext = txt,\n",
    "                    hoverinfo = hoverinfo\n",
    "                )\n",
    "                \n",
    "            traces.append(trace)\n",
    "            clr += 1\n",
    "            \n",
    "    \n",
    "    layout = go.Layout(showlegend=(Class is not None))\n",
    "    fig = go.Figure(data=traces, layout=layout)\n",
    "\n",
    "    return py.iplot(fig, filename=fname)"
   ]
  },
  {
   "cell_type": "code",
   "execution_count": 126,
   "metadata": {},
   "outputs": [],
   "source": [
    "# some variety of kernel functions\n",
    "def gauss_kernel_norm(x):\n",
    "    vars_ = [np.var(x[:, j]) for j in range(x.shape[1])]\n",
    "    \n",
    "    def calc(y, z):\n",
    "        tmp = y - z\n",
    "        return np.exp(-np.mean(tmp * tmp / vars_))\n",
    "    \n",
    "    return calc\n",
    "\n",
    "def mahalanobis_kernel_norm(x):\n",
    "    cov_ =  np.linalg.inv(np.cov(x, rowvar=False))\n",
    "    \n",
    "    def calc(y, z):\n",
    "        tmp = y - z\n",
    "        d = np.dot(np.dot(tmp.T, cov_), tmp)\n",
    "        return np.exp(-d / len(y))\n",
    "    \n",
    "    return calc\n",
    "\n",
    "def dot_kernel_norm(y, z):\n",
    "    cv = np.inner(y, z)\n",
    "    ny = np.inner(y, y)\n",
    "    nz = np.inner(z, z)\n",
    "    return cv / (np.sqrt(ny) * np.sqrt(nz))\n",
    "\n",
    "def dot_kernel(y, z):\n",
    "    cv = np.inner(y, z)\n",
    "    return cv / len(y)\n",
    "\n"
   ]
  },
  {
   "cell_type": "code",
   "execution_count": 27,
   "metadata": {},
   "outputs": [],
   "source": [
    "# Kernel (Gram) matrix calculation and centering\n",
    "def kern_matrix(data, fKernel):\n",
    "    K = np.zeros([data.shape[0], data.shape[0]]) \n",
    "    for i in range(data.shape[0]): \n",
    "        for j in range(i, data.shape[0]):\n",
    "            K[i, j] = K[j, i] = fKernel(data[i,:], data[j, :])\n",
    "    return K\n",
    "\n",
    "def kern_matrix_test(X, Y, fKernel):\n",
    "    K = np.zeros([X.shape[0], Y.shape[0]]) \n",
    "    for i in range(X.shape[0]): \n",
    "        for j in range(Y.shape[0]):\n",
    "            K[i, j] = fKernel(X[i,:], Y[j, :])\n",
    "    return K\n",
    "\n",
    "def kern_matrix_centered(data, basis_events, u, fKernel):\n",
    "    K0 = kern_matrix(basis_events, fKernel)\n",
    "    sq_norm = np.dot(u.T, np.dot(K0, u))\n",
    "    K = kern_matrix(data, fKernel)\n",
    "    Y = np.zeros([data.shape[0], basis_events.shape[0]])\n",
    "    for i in range(data.shape[0]): \n",
    "        for j in range(basis_events.shape[0]):\n",
    "            Y[i, j] = fKernel(data[i,:], basis_events[j, :])\n",
    "    y = np.dot(Y, np.reshape(u, [basis_events.shape[0], 1]))\n",
    "    \n",
    "    for j in range(K.shape[1]): \n",
    "        K[:, [j]] -= y\n",
    "    y = y.T\n",
    "    for i in range(K.shape[0]): \n",
    "        K[[i], :] -= y\n",
    "    return K + sq_norm\n",
    "\n",
    "def kern_matrix_centered_test(X, Y, basis_events, u, fKernel):\n",
    "    K0 = kern_matrix(basis_events, fKernel)\n",
    "    sq_norm = np.dot(u.T, np.dot(K0, u))\n",
    "    K = kern_matrix_test(X, Y, fKernel)\n",
    "    Z = np.zeros([X.shape[0], basis_events.shape[0]])\n",
    "    for i in range(X.shape[0]): \n",
    "        for j in range(basis_events.shape[0]):\n",
    "            Z[i, j] = fKernel(X[i,:], basis_events[j, :])\n",
    "    y = np.dot(Z, np.reshape(u, [basis_events.shape[0], 1]))\n",
    "    \n",
    "    for j in range(K.shape[1]): \n",
    "        K[:, [j]] -= y\n",
    "        \n",
    "    Z = np.zeros([Y.shape[0], basis_events.shape[0]])\n",
    "    for i in range(Y.shape[0]): \n",
    "        for j in range(basis_events.shape[0]):\n",
    "            Z[i, j] = fKernel(Y[i,:], basis_events[j, :])\n",
    "    y = np.dot(Z, np.reshape(u, [basis_events.shape[0], 1]))\n",
    "    y = y.T\n",
    "    for i in range(K.shape[0]): \n",
    "        K[[i], :] -= y\n",
    "        \n",
    "    return K + sq_norm\n"
   ]
  },
  {
   "cell_type": "code",
   "execution_count": 98,
   "metadata": {},
   "outputs": [],
   "source": [
    "# Distance-to-center related calculations\n",
    "def calc_rmin2(K):\n",
    "    k = (K - np.identity(K.shape[0])).flatten().argmax()\n",
    "    i = k // K.shape[0]\n",
    "    j = k % K.shape[0]\n",
    "    return K[i, i] + K[j, j] - 2*K[i, j]\n",
    "\n",
    "def square_dists_to_center(K, w):\n",
    "    w2 = np.array(w * w)\n",
    "    W2 = np.sum(w2)\n",
    "    w2 = w2 / W2\n",
    "    return K.diagonal() - 2 * np.dot(K, w2) + np.dot(np.dot(w2.transpose(), K), w2)\n",
    "\n",
    "def init_approx2(K, rmin2):\n",
    "    w = K.sum(axis=0) \n",
    "    r2 = square_dists_to_center(K, w)\n",
    "    a = np.sqrt(r2.max() * r2.min())\n",
    "    w = a / (a + r2)\n",
    "    r = np.sqrt(rmin2 / 2);\n",
    "    if (r > 0):\n",
    "        amax = r\n",
    "        wmax = amax / (amax + r*r)\n",
    "    else: \n",
    "        wmax = 1\n",
    "    \n",
    "    return np.minimum(w, wmax-1e-6)\n",
    "\n",
    "def scale_factor(K, w):\n",
    "    R = square_dists_to_center(K, w)\n",
    "    return np.sqrt(np.prod([R.min(), R.max()]))\n",
    "\n",
    "def scale_factor_reduced(K, w, rmin2):\n",
    "    R = square_dists_to_center(K, w)\n",
    "    R = [R.min(), R.max()]\n",
    "    rmin = [rmin2/2, rmin2/2]\n",
    "    return np.sqrt(np.prod(np.maximum(R, rmin)))\n",
    "\n",
    "def func_j2(w, K, debug_print = False):\n",
    "    #pdb.set_trace()\n",
    "    a = scale_factor(K, w)\n",
    "    w2 = np.reshape(w * w, [len(w), 1])\n",
    "    W2 = np.sum(w2)\n",
    "    res = 0.5 * (np.sum(K.diagonal() * w2) - np.dot(np.dot(w2.transpose(), K), w2) / W2 + a * np.sum((1 - w)**2)) / K.shape[0]\n",
    "    if debug_print:\n",
    "        print(\"a = {}, wmin = {}, wmax = {}, value = {}\".format(a, w.min(), w.max(), res))\n",
    "    return res.flatten()[0]\n",
    "\n",
    "def func_j2_reduced(w, K, rmin2, debug_print = False):\n",
    "    #pdb.set_trace()\n",
    "    a = scale_factor_reduced(K, w, rmin2)\n",
    "    w2 = np.reshape(w * w, [len(w), 1])\n",
    "    W2 = np.sum(w2)\n",
    "    res = 0.5 * (np.sum(K.diagonal() * w2) - np.dot(np.dot(w2.transpose(), K), w2) / W2 + a * np.sum((1 - w)**2)) / K.shape[0]\n",
    "    if debug_print:\n",
    "        print(\"a = {}, wmin = {}, wmax = {}, value = {}\".format(a, w.min(), w.max(), res))\n",
    "    return res.flatten()[0]\n",
    "\n",
    "def func_j2_pseudo_grad(w, K):\n",
    "    a = scale_factor(K, w)\n",
    "    w2 = w ** 2\n",
    "    W2 = sum(w2)\n",
    "    res = np.dot(K.diagonal(), w) - (2 / W2) * np.dot(w.transpose() ** 3, K) + np.dot(w2.transpose(), np.dot(K, w2)) / (W2 * W2) - a * (1 - w)\n",
    "    return (res / K.shape[0]).flatten()\n",
    "\n",
    "def func_j2_reduced_pseudo_grad(w, K, rmin2):\n",
    "    a = scale_factor_reduced(K, w, rmin2)\n",
    "    w2 = w ** 2\n",
    "    W2 = sum(w2)\n",
    "    res = np.dot(K.diagonal(), w) - (2 / W2) * np.dot(w.transpose() ** 3, K) + np.dot(w2.transpose(), np.dot(K, w2)) / (W2 * W2) - a * (1 - w)\n",
    "    return (res / K.shape[0]).flatten()\n",
    "\n",
    "\n"
   ]
  },
  {
   "cell_type": "code",
   "execution_count": 97,
   "metadata": {},
   "outputs": [],
   "source": [
    "def calc_pseudo_opt_weights(K):\n",
    "    rmin2 = calc_rmin2(K)\n",
    "    w = init_approx2(K, rmin2)\n",
    "    ww = w * w\n",
    "    ww = ww / sum(np.abs(ww))\n",
    "    o = minimize(fun=func_j2, x0=ww, args=(K), method='CG', jac=func_j2_pseudo_grad, \n",
    "             options={'disp':True})\n",
    "    ww = o['x'] ** 2\n",
    "    ww = ww / sum(np.abs(ww))\n",
    "    return ww"
   ]
  },
  {
   "cell_type": "code",
   "execution_count": 112,
   "metadata": {},
   "outputs": [],
   "source": [
    "# Sugeno measure and integral related calculations\n",
    "def Frank0(y, Fn, K, X):\n",
    "    return sum(np.maximum(Fn[X], K[y, X])) / len(X)\n",
    "\n",
    "def SugenoMeasure(w, lmbda):\n",
    "    res = np.repeat(0.0, len(w)+1)\n",
    "    for i in range(len(w)):\n",
    "        res[i+1] = res[i] + w[i] + lmbda * res[i] * w[i]\n",
    "    return res[-1]\n",
    "\n",
    "def SugenoMeasureCum(w, lmbda):\n",
    "    res = np.repeat(0.0, len(w)+1);\n",
    "    for i in range(len(w)):\n",
    "        res[i+1] = res[i] + w[i] + lmbda * res[i] * w[i]\n",
    "    return res[range(1, len(res))]\n",
    "\n",
    "def SugenoInt(K, Frank, Fn, w, X, lmbda = None):\n",
    "    bx = np.array([Frank(y, Fn, K, X) for y in X], dtype=np.float)\n",
    "    ibx = (-bx).argsort()\n",
    "    jbx = X[ibx]\n",
    "    bx = bx[ibx]\n",
    "    w = w[jbx]\n",
    "    if (lmbda is None) and (len(w) > 1):\n",
    "        def f(x):\n",
    "            return SugenoMeasure(w, x) - 1\n",
    "        \n",
    "        m = SugenoMeasure(w, 0)\n",
    "        if (m > 1):\n",
    "            lmbda = brentq(f, -1, 0, maxiter=100, full_output=False, disp=False)\n",
    "        elif (m < 1):\n",
    "            if (m < 1e-6): # measure of X is practically zero -- need to stop \n",
    "                return []\n",
    "            \n",
    "            rb = 1\n",
    "            while m < 1:\n",
    "                m = SugenoMeasure(w, rb)\n",
    "                if m < 1:\n",
    "                    rb = 2 * rb \n",
    "            lmbda = brentq(f, 0, rb, maxiter=100, full_output=False, disp=False)\n",
    "        else: \n",
    "            lmbda = 0\n",
    "            \n",
    "        m = SugenoMeasureCum(w, lmbda)\n",
    "    else:\n",
    "        if (lmbda is None): \n",
    "            lmbda = 0\n",
    "        m = SugenoMeasureCum(w, lmbda)\n",
    "        m = m / m[-1]\n",
    "    \n",
    "    res = np.minimum(bx, m)\n",
    "    return res[np.argsort(ibx)]\n",
    "\n",
    "def BasisEvents(K, Frank, w, lmbda = None, eps = 1e-4, min_events = 3, control_singularity = True) :\n",
    "    # pdb.set_trace()\n",
    "    res = []\n",
    "    N = len(w)\n",
    "    X = np.array(range(N), dtype=np.integer)\n",
    "    Fn = np.repeat(0.0, N)\n",
    "    sMax = 0.0\n",
    "    w0 = copy.deepcopy(w)\n",
    "    for i in range(N):\n",
    "        S = SugenoInt(K, Frank, Fn, w0, X, lmbda)\n",
    "        if (S is None) or (len(S) == 0): \n",
    "            break\n",
    "        Fn1 = copy.deepcopy(Fn)\n",
    "        Fn[X] = S; \n",
    "        progress = min(max(abs(Fn[X]-Fn1[X])), max(S) - sMax)\n",
    "        jmax = np.argmax(S)\n",
    "        sMax = S[jmax]\n",
    "        j = X[jmax]\n",
    "        res.append(j)\n",
    "        Xj = set(X) - set([j])\n",
    "        X = np.sort(list(Xj))\n",
    "        if (X is None) or (len(X) == 0): \n",
    "            break\n",
    "        Fn[j] = 0.0;\n",
    "        print(\"step: {}; selected: {}; sMax = {}; progress = {}\".format(i, j, sMax, progress))\n",
    "        w0[j] = 0.0\n",
    "        if control_singularity and (len(res) > 1):\n",
    "            Ku = K[res, :][:, res]\n",
    "            v = linalg.eigh(Ku, eigvals_only = True)\n",
    "            if (min(v) < 1e-8):\n",
    "                print(\"adding event %d leads to a singular matrix, omitting.\" % j)\n",
    "                res = res[:-1]\n",
    "                progress = 1.0\n",
    "                sMax = 0.0\n",
    "        if (len(res) >= min_events) and ((progress < eps) or (sMax > 1 - eps)): \n",
    "            break\n",
    "    \n",
    "    if (progress < 0) and (len(res) > min_events): \n",
    "        return res[:-1] \n",
    "    else: \n",
    "        return res\n",
    "\n"
   ]
  },
  {
   "cell_type": "code",
   "execution_count": 30,
   "metadata": {},
   "outputs": [],
   "source": [
    "# Center related calculations\n",
    "def BasisEventsWeights(K, be, w):\n",
    "    w2 = w ** 2\n",
    "    b = np.dot(K[be, :], w2 / np.sum(w2))\n",
    "    return np.linalg.solve(K[be, :][:, be], b).flatten()\n",
    "\n",
    "def square_dists_to_center_reduced(K, u, be):\n",
    "    res = K.diagonal() - 2 * np.dot(K[:, be], u) + np.dot(np.dot(u.transpose(), K[be, :][:, be]), u)\n",
    "    return res.flatten()\n",
    "\n",
    "def center_kern_matrix(K, u):\n",
    "    y = np.dot(K, u)\n",
    "    sqnorm = np.dot(u.transpose(), y)\n",
    "    for i in range(K.shape[0]):\n",
    "        K[i, :] -= y\n",
    "    for j in range(K.shape[1]):\n",
    "        K[:, j] -= y\n",
    "    return K + sqnorm\n"
   ]
  },
  {
   "cell_type": "code",
   "execution_count": 103,
   "metadata": {},
   "outputs": [],
   "source": [
    "# Non-linear eigenvector decomposition\n",
    "def nl_eigen_vectors(K, L, normalize = False):\n",
    "    N = K.shape[0]\n",
    "    w, v = linalg.eigh(K, eigvals = (N-L, N-1))\n",
    "    if (normalize):\n",
    "        for i in range(v.shape[0]):\n",
    "            v[i, :] /= np.sqrt(w) \n",
    "    return v[:,::-1]"
   ]
  },
  {
   "cell_type": "code",
   "execution_count": 104,
   "metadata": {},
   "outputs": [],
   "source": [
    "# Membership and non-linear PCA related calculations\n",
    "def predict_memberships(x, basis_events, fKernel, u, a, L = 3, normalize = True):\n",
    "    # pdb.set_trace()\n",
    "    res = np.zeros([x.shape[0], L+1])\n",
    "    K0 = kern_matrix_centered(x, basis_events, u, fKernel)\n",
    "    res[:,0] = a / (a + K0.diagonal())\n",
    "    if L > 0:\n",
    "        U = nl_eigen_vectors(K0, L, normalize=normalize)\n",
    "        tmp = np.dot(U.T, K0)\n",
    "        res[:,1:] = tmp.T\n",
    "    return res "
   ]
  },
  {
   "cell_type": "code",
   "execution_count": 197,
   "metadata": {},
   "outputs": [],
   "source": [
    "# putting all together\n",
    "def append_membership_feature(x_train, y_train, x_test, fKernel = dot_kernel_norm, cluster = 0, L = 3, normalize = True):\n",
    "    #pdb.set_trace()\n",
    "    M = x_train.shape[1]\n",
    "    data = x_train[y_train == cluster, :]\n",
    "    print(\"Calculating kernel\")\n",
    "    K = kern_matrix(data, fKernel)\n",
    "    print(\"Finding pseudo-optimal center coeffs\")\n",
    "    w = calc_pseudo_opt_weights(K)\n",
    "    print(\"Finding principal events\")\n",
    "    be = BasisEvents(K, Frank=Frank0, w=w, lmbda = None, eps = 1e-4, min_events = L, control_singularity = True) \n",
    "    u = BasisEventsWeights(K, be, np.sqrt(w))\n",
    "    r2 = square_dists_to_center_reduced(K, u, be)\n",
    "    a = np.sqrt(np.prod([r2.min(), r2.max()]))\n",
    "    print(\"Scale: {}, membership range: {} - {}\".format(a, a / (a + r2.max()), a / (a + r2.min())))\n",
    "\n",
    "    basis_events = data[be, :]\n",
    "    \n",
    "    print(\"Calculating memberships\")\n",
    "    y = predict_memberships(x_train, basis_events, fKernel, u, a, L = L, normalize = normalize)\n",
    "    y1 = predict_memberships(x_test, basis_events, fKernel, u, a, L = L, normalize = normalize)\n",
    "    res = {'x_train': np.append(x_train, y, axis = 1), 'x_test': np.append(x_test, y1, axis = 1), 'basis_events': basis_events, 'u':u, 'a':a}\n",
    "    print(\"Done\")\n",
    "    \n",
    "    return res"
   ]
  },
  {
   "cell_type": "code",
   "execution_count": 229,
   "metadata": {
    "scrolled": true
   },
   "outputs": [
    {
     "name": "stdout",
     "output_type": "stream",
     "text": [
      "Calculating kernel\n",
      "Finding pseudo-optimal center coeffs\n",
      "Warning: Desired error not necessarily achieved due to precision loss.\n",
      "         Current function value: 0.043671\n",
      "         Iterations: 1\n",
      "         Function evaluations: 89\n",
      "         Gradient evaluations: 77\n",
      "Finding principal events\n",
      "step: 0; selected: 19; sMax = 0.9961508705680732; progress = 0.9961508705680732\n",
      "step: 1; selected: 17; sMax = 0.9966839247608816; progress = 0.0005330541928084687\n",
      "step: 2; selected: 14; sMax = 0.9970841118967533; progress = 0.00040018713587164356\n",
      "step: 3; selected: 9; sMax = 0.9975965341459203; progress = 0.0005124222491670327\n",
      "step: 4; selected: 5; sMax = 0.9977208141064864; progress = 0.00012427996056607604\n",
      "adding event 5 leads to a singular matrix, omitting.\n",
      "step: 5; selected: 11; sMax = 0.9980159010213207; progress = 0.11110407325007021\n",
      "adding event 11 leads to a singular matrix, omitting.\n",
      "step: 6; selected: 20; sMax = 0.9984364786493269; progress = 0.2631578727674419\n",
      "adding event 20 leads to a singular matrix, omitting.\n",
      "step: 7; selected: 10; sMax = 0.9987337084344695; progress = 0.14303498068672926\n",
      "adding event 10 leads to a singular matrix, omitting.\n",
      "step: 8; selected: 15; sMax = 0.9989655186316687; progress = 0.17922904043432386\n",
      "adding event 15 leads to a singular matrix, omitting.\n",
      "step: 9; selected: 6; sMax = 0.9990328410888407; progress = 0.20317504343432535\n",
      "adding event 6 leads to a singular matrix, omitting.\n",
      "step: 10; selected: 0; sMax = 0.9990456866234275; progress = 0.25246505145625886\n",
      "adding event 0 leads to a singular matrix, omitting.\n",
      "step: 11; selected: 1; sMax = 0.9993947388474994; progress = 0.45331345411043056\n",
      "adding event 1 leads to a singular matrix, omitting.\n",
      "step: 12; selected: 3; sMax = 0.999574563590318; progress = 0.278090225055585\n",
      "adding event 3 leads to a singular matrix, omitting.\n",
      "step: 13; selected: 7; sMax = 0.9997096496959748; progress = 0.3164764966758099\n",
      "adding event 7 leads to a singular matrix, omitting.\n",
      "step: 14; selected: 2; sMax = 0.9997977359677814; progress = 0.6366718632853392\n",
      "adding event 2 leads to a singular matrix, omitting.\n",
      "step: 15; selected: 21; sMax = 0.9998482830523062; progress = 0.2870460345679427\n",
      "adding event 21 leads to a singular matrix, omitting.\n",
      "step: 16; selected: 18; sMax = 0.9998840432676838; progress = 0.5318052982270626\n",
      "adding event 18 leads to a singular matrix, omitting.\n",
      "step: 17; selected: 16; sMax = 0.9998843762957292; progress = 0.9432494576998498\n",
      "adding event 16 leads to a singular matrix, omitting.\n",
      "step: 18; selected: 8; sMax = 0.9999016541053393; progress = 0.760415113597979\n",
      "adding event 8 leads to a singular matrix, omitting.\n",
      "step: 19; selected: 12; sMax = 0.9999909801261762; progress = 0.9954208348959801\n",
      "adding event 12 leads to a singular matrix, omitting.\n",
      "step: 20; selected: 13; sMax = 0.9999973174954966; progress = 0.9998625383652868\n",
      "adding event 13 leads to a singular matrix, omitting.\n",
      "Scale: 0.0005521375961517308, membership range: 0.09230447101408241 - 0.9076955289859177\n",
      "Calculating memberships\n",
      "Done\n"
     ]
    }
   ],
   "source": [
    "z0 = append_membership_feature(X_train, y_train, X_test, fKernel = dot_kernel_norm, cluster = 0, L = 3, normalize=True)"
   ]
  },
  {
   "cell_type": "code",
   "execution_count": 230,
   "metadata": {
    "scrolled": true
   },
   "outputs": [
    {
     "name": "stdout",
     "output_type": "stream",
     "text": [
      "Calculating kernel\n",
      "Finding pseudo-optimal center coeffs\n",
      "Warning: Desired error not necessarily achieved due to precision loss.\n",
      "         Current function value: 0.023253\n",
      "         Iterations: 1\n",
      "         Function evaluations: 100\n",
      "         Gradient evaluations: 88\n",
      "Finding principal events\n",
      "step: 0; selected: 21; sMax = 0.9953754425173069; progress = 0.9953754425173069\n",
      "step: 1; selected: 20; sMax = 0.9953503549402289; progress = -2.508757707797571e-05\n",
      "step: 2; selected: 0; sMax = 0.9955009031868411; progress = 0.00015054824661220323\n",
      "step: 3; selected: 30; sMax = 0.9960456538935496; progress = 0.0005447507067084523\n",
      "step: 4; selected: 25; sMax = 0.9962949302423302; progress = 0.00024927634878058047\n",
      "adding event 25 leads to a singular matrix, omitting.\n",
      "step: 5; selected: 18; sMax = 0.9962807966376964; progress = 0.1545728353140115\n",
      "adding event 18 leads to a singular matrix, omitting.\n",
      "step: 6; selected: 6; sMax = 0.9972653022065008; progress = 0.15185809215946944\n",
      "adding event 6 leads to a singular matrix, omitting.\n",
      "step: 7; selected: 17; sMax = 0.9972578125298729; progress = 0.14768314803455707\n",
      "adding event 17 leads to a singular matrix, omitting.\n",
      "step: 8; selected: 16; sMax = 0.9982379325950171; progress = 0.1870799552679573\n",
      "adding event 16 leads to a singular matrix, omitting.\n",
      "step: 9; selected: 4; sMax = 0.9982928536569254; progress = 0.2715797003835629\n",
      "adding event 4 leads to a singular matrix, omitting.\n",
      "step: 10; selected: 31; sMax = 0.998401331738112; progress = 0.27998400088167485\n",
      "adding event 31 leads to a singular matrix, omitting.\n",
      "step: 11; selected: 5; sMax = 0.9985461282298526; progress = 0.2676412041626476\n",
      "adding event 5 leads to a singular matrix, omitting.\n",
      "step: 12; selected: 19; sMax = 0.9984867829967756; progress = 0.21161871118559272\n",
      "adding event 19 leads to a singular matrix, omitting.\n",
      "step: 13; selected: 12; sMax = 0.9987410155176785; progress = 0.4378290962984275\n",
      "adding event 12 leads to a singular matrix, omitting.\n",
      "step: 14; selected: 11; sMax = 0.9989207069409017; progress = 0.30764083333960246\n",
      "adding event 11 leads to a singular matrix, omitting.\n",
      "step: 15; selected: 2; sMax = 0.9989188686201194; progress = 0.5491576957213858\n",
      "adding event 2 leads to a singular matrix, omitting.\n",
      "step: 16; selected: 28; sMax = 0.9989167202557233; progress = 0.17884729924073628\n",
      "adding event 28 leads to a singular matrix, omitting.\n",
      "step: 17; selected: 15; sMax = 0.9993028935126147; progress = 0.1251541507142226\n",
      "adding event 15 leads to a singular matrix, omitting.\n",
      "step: 18; selected: 13; sMax = 0.9993651091848103; progress = 0.17570336787141638\n",
      "adding event 13 leads to a singular matrix, omitting.\n",
      "step: 19; selected: 3; sMax = 0.9994010892378742; progress = 0.21538519790356592\n",
      "adding event 3 leads to a singular matrix, omitting.\n",
      "step: 20; selected: 14; sMax = 0.9997216586099372; progress = 0.6673440377544688\n",
      "adding event 14 leads to a singular matrix, omitting.\n",
      "step: 21; selected: 7; sMax = 0.999731237237446; progress = 0.8452626514418293\n",
      "adding event 7 leads to a singular matrix, omitting.\n",
      "step: 22; selected: 1; sMax = 0.9997371416457863; progress = 0.11675383555349472\n",
      "adding event 1 leads to a singular matrix, omitting.\n",
      "step: 23; selected: 24; sMax = 0.999736731082175; progress = 0.5881013744124928\n",
      "adding event 24 leads to a singular matrix, omitting.\n",
      "step: 24; selected: 8; sMax = 0.9998452490968082; progress = 0.7991158789330302\n",
      "adding event 8 leads to a singular matrix, omitting.\n",
      "step: 25; selected: 29; sMax = 0.9999220158622569; progress = 0.1778861465237887\n",
      "adding event 29 leads to a singular matrix, omitting.\n",
      "step: 26; selected: 27; sMax = 0.9999226990223277; progress = 0.5515499302434074\n",
      "adding event 27 leads to a singular matrix, omitting.\n",
      "step: 27; selected: 9; sMax = 0.9999413210434664; progress = 0.6772516786374874\n",
      "adding event 9 leads to a singular matrix, omitting.\n",
      "step: 28; selected: 26; sMax = 0.9999504827616038; progress = 0.8141405990858224\n",
      "adding event 26 leads to a singular matrix, omitting.\n",
      "step: 29; selected: 22; sMax = 0.999966453686301; progress = 0.8537990358146923\n",
      "adding event 22 leads to a singular matrix, omitting.\n",
      "step: 30; selected: 10; sMax = 0.999958012263179; progress = 2.522457554865465e-05\n",
      "adding event 10 leads to a singular matrix, omitting.\n",
      "Scale: 0.001349308387929578, membership range: 0.14908326722779647 - 0.8509167327722036\n",
      "Calculating memberships\n",
      "Done\n"
     ]
    }
   ],
   "source": [
    "z1 = append_membership_feature(X_train, y_train, X_test, fKernel = dot_kernel_norm, cluster = 1, L = 3, normalize=True)"
   ]
  },
  {
   "cell_type": "code",
   "execution_count": 231,
   "metadata": {},
   "outputs": [
    {
     "name": "stdout",
     "output_type": "stream",
     "text": [
      "Calculating kernel\n",
      "Finding pseudo-optimal center coeffs\n",
      "Warning: Desired error not necessarily achieved due to precision loss.\n",
      "         Current function value: 0.026048\n",
      "         Iterations: 1\n",
      "         Function evaluations: 102\n",
      "         Gradient evaluations: 90\n",
      "Finding principal events\n",
      "step: 0; selected: 7; sMax = 0.9963980558461385; progress = 0.9963980558461385\n",
      "step: 1; selected: 2; sMax = 0.9969359075705541; progress = 0.0005378517244155612\n",
      "step: 2; selected: 12; sMax = 0.9969294198455028; progress = -6.487725051296245e-06\n",
      "Scale: 0.002512268718875413, membership range: 0.21646490804965907 - 0.7835350919503409\n",
      "Calculating memberships\n",
      "Done\n"
     ]
    }
   ],
   "source": [
    "z2 = append_membership_feature(X_train, y_train, X_test, fKernel = dot_kernel_norm, cluster = 2, L = 3, normalize=True)"
   ]
  },
  {
   "cell_type": "code",
   "execution_count": 232,
   "metadata": {},
   "outputs": [],
   "source": [
    "Mb = np.concatenate((np.append(z0['x_train'][:,[4]], z0['x_test'][:,[4]], axis = 0), \n",
    "               np.append(z1['x_train'][:,[4]], z1['x_test'][:,[4]], axis = 0),\n",
    "               np.append(z2['x_train'][:,[4]], z2['x_test'][:,[4]], axis = 0)),\n",
    "               axis = 1)\n",
    "P = np.concatenate((np.append(z0['x_train'][:,-3:], z0['x_test'][:,-3:], axis = 0),\n",
    "              np.append(z1['x_train'][:,-3:], z1['x_test'][:,-3:], axis = 0),\n",
    "              np.append(z2['x_train'][:,-3:], z2['x_test'][:,-3:], axis = 0)),\n",
    "              axis = 1)\n",
    "C = np.append(y_train, y_test)\n"
   ]
  },
  {
   "cell_type": "code",
   "execution_count": 293,
   "metadata": {},
   "outputs": [
    {
     "data": {
      "text/html": [
       "<iframe id=\"igraph\" scrolling=\"no\" style=\"border:none;\" seamless=\"seamless\" src=\"https://plot.ly/~slava-mazur/4.embed\" height=\"525px\" width=\"100%\"></iframe>"
      ],
      "text/plain": [
       "<plotly.tools.PlotlyDisplay object>"
      ]
     },
     "execution_count": 293,
     "metadata": {},
     "output_type": "execute_result"
    }
   ],
   "source": [
    "labels = [\"%d: %.2f%%\" % (C[j] , 100*Mb[j,0]) for j in range(len(C))]\n",
    "plotly_scatter(data=P[:,0:3], Class = C, text = labels, marker_size = 3, fname = 'center-cetosa')"
   ]
  },
  {
   "cell_type": "code",
   "execution_count": 295,
   "metadata": {},
   "outputs": [
    {
     "data": {
      "text/html": [
       "<iframe id=\"igraph\" scrolling=\"no\" style=\"border:none;\" seamless=\"seamless\" src=\"https://plot.ly/~slava-mazur/8.embed\" height=\"525px\" width=\"100%\"></iframe>"
      ],
      "text/plain": [
       "<plotly.tools.PlotlyDisplay object>"
      ]
     },
     "execution_count": 295,
     "metadata": {},
     "output_type": "execute_result"
    }
   ],
   "source": [
    "labels = [\"%d: %.2f%%\" % (C[j] , 100*Mb[j,1]) for j in range(len(C))]\n",
    "plotly_scatter(data=P[:,3:6], Class = C, text = labels, marker_size = 3, fname = 'center-versicolor')"
   ]
  },
  {
   "cell_type": "code",
   "execution_count": 296,
   "metadata": {},
   "outputs": [
    {
     "data": {
      "text/html": [
       "<iframe id=\"igraph\" scrolling=\"no\" style=\"border:none;\" seamless=\"seamless\" src=\"https://plot.ly/~slava-mazur/10.embed\" height=\"525px\" width=\"100%\"></iframe>"
      ],
      "text/plain": [
       "<plotly.tools.PlotlyDisplay object>"
      ]
     },
     "execution_count": 296,
     "metadata": {},
     "output_type": "execute_result"
    }
   ],
   "source": [
    "labels = [\"%d: %.2f%%\" % (C[j] , 100*Mb[j,2]) for j in range(len(C))]\n",
    "plotly_scatter(data=P[:,6:9], Class = C, text = labels, marker_size = 3, fname = 'center-verginica')"
   ]
  },
  {
   "cell_type": "code",
   "execution_count": 289,
   "metadata": {},
   "outputs": [],
   "source": [
    "N_train = X_train.shape[0]\n",
    "#x_train = X_train\n",
    "#x_test = X_test\n",
    "x_train = np.append(X_train, Mb[0:N_train,[1]], axis = 1)\n",
    "x_test = np.append(X_test, Mb[N_train:,[1]], axis = 1)"
   ]
  },
  {
   "cell_type": "code",
   "execution_count": 285,
   "metadata": {},
   "outputs": [
    {
     "data": {
      "text/plain": [
       "GridSearchCV(cv=5, error_score='raise',\n",
       "       estimator=AdaBoostClassifier(algorithm='SAMME.R', base_estimator=None,\n",
       "          learning_rate=1.0, n_estimators=50, random_state=777),\n",
       "       fit_params=None, iid=True, n_jobs=8,\n",
       "       param_grid={'n_estimators': range(5, 75, 5), 'learning_rate': array([0.1, 0.2, 0.3, 0.4, 0.5, 0.6, 0.7, 0.8, 0.9, 1. , 1.1, 1.2, 1.3,\n",
       "       1.4, 1.5, 1.6, 1.7, 1.8, 1.9, 2. ])},\n",
       "       pre_dispatch='2*n_jobs', refit=True, return_train_score='warn',\n",
       "       scoring=None, verbose=0)"
      ]
     },
     "execution_count": 285,
     "metadata": {},
     "output_type": "execute_result"
    }
   ],
   "source": [
    "gs = model_selection.GridSearchCV(AdaBoostClassifier(random_state = my_seed),\n",
    "                  param_grid={'n_estimators': range(5, N_train, 5), 'learning_rate': np.linspace(0.1, 2, num = 20) },\n",
    "                  cv=5, n_jobs = 8)\n",
    "gs.fit(x_train, y_train)\n"
   ]
  },
  {
   "cell_type": "code",
   "execution_count": 286,
   "metadata": {},
   "outputs": [
    {
     "data": {
      "text/plain": [
       "AdaBoostClassifier(algorithm='SAMME.R', base_estimator=None,\n",
       "          learning_rate=1.4, n_estimators=15, random_state=777)"
      ]
     },
     "execution_count": 286,
     "metadata": {},
     "output_type": "execute_result"
    }
   ],
   "source": [
    "gs.best_estimator_"
   ]
  },
  {
   "cell_type": "code",
   "execution_count": 290,
   "metadata": {},
   "outputs": [
    {
     "data": {
      "text/html": [
       "<div>\n",
       "<style scoped>\n",
       "    .dataframe tbody tr th:only-of-type {\n",
       "        vertical-align: middle;\n",
       "    }\n",
       "\n",
       "    .dataframe tbody tr th {\n",
       "        vertical-align: top;\n",
       "    }\n",
       "\n",
       "    .dataframe thead th {\n",
       "        text-align: right;\n",
       "    }\n",
       "</style>\n",
       "<table border=\"1\" class=\"dataframe\">\n",
       "  <thead>\n",
       "    <tr style=\"text-align: right;\">\n",
       "      <th>col_0</th>\n",
       "      <th>0</th>\n",
       "      <th>1</th>\n",
       "      <th>2</th>\n",
       "    </tr>\n",
       "    <tr>\n",
       "      <th>row_0</th>\n",
       "      <th></th>\n",
       "      <th></th>\n",
       "      <th></th>\n",
       "    </tr>\n",
       "  </thead>\n",
       "  <tbody>\n",
       "    <tr>\n",
       "      <th>0</th>\n",
       "      <td>22</td>\n",
       "      <td>0</td>\n",
       "      <td>0</td>\n",
       "    </tr>\n",
       "    <tr>\n",
       "      <th>1</th>\n",
       "      <td>0</td>\n",
       "      <td>30</td>\n",
       "      <td>2</td>\n",
       "    </tr>\n",
       "    <tr>\n",
       "      <th>2</th>\n",
       "      <td>0</td>\n",
       "      <td>0</td>\n",
       "      <td>21</td>\n",
       "    </tr>\n",
       "  </tbody>\n",
       "</table>\n",
       "</div>"
      ],
      "text/plain": [
       "col_0   0   1   2\n",
       "row_0            \n",
       "0      22   0   0\n",
       "1       0  30   2\n",
       "2       0   0  21"
      ]
     },
     "execution_count": 290,
     "metadata": {},
     "output_type": "execute_result"
    }
   ],
   "source": [
    "model = AdaBoostClassifier(n_estimators=gs.best_estimator_.n_estimators, random_state=my_seed, learning_rate=gs.best_estimator_.learning_rate)\n",
    "model.fit(x_train, y_train)\n",
    "Z = model.predict(x_train)\n",
    "pd.crosstab(y_train, Z)"
   ]
  },
  {
   "cell_type": "code",
   "execution_count": 291,
   "metadata": {},
   "outputs": [
    {
     "data": {
      "text/html": [
       "<div>\n",
       "<style scoped>\n",
       "    .dataframe tbody tr th:only-of-type {\n",
       "        vertical-align: middle;\n",
       "    }\n",
       "\n",
       "    .dataframe tbody tr th {\n",
       "        vertical-align: top;\n",
       "    }\n",
       "\n",
       "    .dataframe thead th {\n",
       "        text-align: right;\n",
       "    }\n",
       "</style>\n",
       "<table border=\"1\" class=\"dataframe\">\n",
       "  <thead>\n",
       "    <tr style=\"text-align: right;\">\n",
       "      <th>col_0</th>\n",
       "      <th>0</th>\n",
       "      <th>1</th>\n",
       "      <th>2</th>\n",
       "    </tr>\n",
       "    <tr>\n",
       "      <th>row_0</th>\n",
       "      <th></th>\n",
       "      <th></th>\n",
       "      <th></th>\n",
       "    </tr>\n",
       "  </thead>\n",
       "  <tbody>\n",
       "    <tr>\n",
       "      <th>0</th>\n",
       "      <td>28</td>\n",
       "      <td>0</td>\n",
       "      <td>0</td>\n",
       "    </tr>\n",
       "    <tr>\n",
       "      <th>1</th>\n",
       "      <td>0</td>\n",
       "      <td>17</td>\n",
       "      <td>1</td>\n",
       "    </tr>\n",
       "    <tr>\n",
       "      <th>2</th>\n",
       "      <td>0</td>\n",
       "      <td>1</td>\n",
       "      <td>28</td>\n",
       "    </tr>\n",
       "  </tbody>\n",
       "</table>\n",
       "</div>"
      ],
      "text/plain": [
       "col_0   0   1   2\n",
       "row_0            \n",
       "0      28   0   0\n",
       "1       0  17   1\n",
       "2       0   1  28"
      ]
     },
     "execution_count": 291,
     "metadata": {},
     "output_type": "execute_result"
    }
   ],
   "source": [
    "Z_test = model.predict(x_test)\n",
    "pd.crosstab(y_test, Z_test)"
   ]
  }
 ],
 "metadata": {
  "kernelspec": {
   "display_name": "Python 3",
   "language": "python",
   "name": "python3"
  },
  "language_info": {
   "codemirror_mode": {
    "name": "ipython",
    "version": 3
   },
   "file_extension": ".py",
   "mimetype": "text/x-python",
   "name": "python",
   "nbconvert_exporter": "python",
   "pygments_lexer": "ipython3",
   "version": "3.6.5"
  }
 },
 "nbformat": 4,
 "nbformat_minor": 2
}
