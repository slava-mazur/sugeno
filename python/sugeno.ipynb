{
 "cells": [
  {
   "cell_type": "code",
   "execution_count": 31,
   "metadata": {},
   "outputs": [],
   "source": [
    "%config IPCompleter.greedy=True\n",
    "from functools import reduce\n",
    "from itertools import accumulate\n",
    "import pandas as pd\n",
    "import numpy as np\n",
    "import plotly\n",
    "import plotly.plotly as py\n",
    "import plotly.graph_objs as go\n",
    "from scipy import linalg\n",
    "from scipy.stats import mstats\n",
    "from scipy.optimize import minimize\n",
    "from scipy.optimize import brentq\n",
    "import matplotlib.pyplot as plt\n",
    "import seaborn as sns\n",
    "import pdb\n",
    "import copy\n",
    "import math\n",
    "from sklearn import datasets as ds\n",
    "from sklearn import model_selection\n",
    "from sklearn.ensemble import AdaBoostClassifier\n",
    "from sklearn.ensemble import RandomForestClassifier\n",
    "from sklearn import svm\n",
    "%matplotlib inline"
   ]
  },
  {
   "cell_type": "code",
   "execution_count": 12,
   "metadata": {
    "collapsed": true
   },
   "outputs": [
    {
     "name": "stdout",
     "output_type": "stream",
     "text": [
      "Collecting sklearn\n",
      "  Downloading https://files.pythonhosted.org/packages/1e/7a/dbb3be0ce9bd5c8b7e3d87328e79063f8b263b2b1bfa4774cb1147bfcd3f/sklearn-0.0.tar.gz\n",
      "Collecting scikit-learn (from sklearn)\n",
      "\u001b[?25l  Downloading https://files.pythonhosted.org/packages/3d/2d/9fbc7baa5f44bc9e88ffb7ed32721b879bfa416573e85031e16f52569bc9/scikit_learn-0.19.1-cp36-cp36m-manylinux1_x86_64.whl (12.4MB)\n",
      "\u001b[K    100% |████████████████████████████████| 12.4MB 2.2MB/s ta 0:00:011\n",
      "\u001b[?25hBuilding wheels for collected packages: sklearn\n",
      "  Running setup.py bdist_wheel for sklearn ... \u001b[?25ldone\n",
      "\u001b[?25h  Stored in directory: /home/slava/.cache/pip/wheels/76/03/bb/589d421d27431bcd2c6da284d5f2286c8e3b2ea3cf1594c074\n",
      "Successfully built sklearn\n",
      "Installing collected packages: scikit-learn, sklearn\n",
      "Successfully installed scikit-learn-0.19.1 sklearn-0.0\n"
     ]
    }
   ],
   "source": [
    "#!pip install pandas\n",
    "#!pip install plotly\n",
    "#!pip install scipy\n",
    "#!pip install matplotlib\n",
    "#!pip install seaborn\n",
    "#!pip install sklearn"
   ]
  },
  {
   "cell_type": "code",
   "execution_count": 54,
   "metadata": {},
   "outputs": [],
   "source": [
    "plotly.tools.set_credentials_file(username='slava-mazur', api_key='0Up94ov3B6l4c11Pbxrc')"
   ]
  },
  {
   "cell_type": "code",
   "execution_count": 3,
   "metadata": {},
   "outputs": [],
   "source": [
    "my_seed = 777\n",
    "test_size = 0.5"
   ]
  },
  {
   "cell_type": "code",
   "execution_count": 4,
   "metadata": {},
   "outputs": [
    {
     "name": "stdout",
     "output_type": "stream",
     "text": [
      "/home/ilongin/anaconda3/lib/python3.6/site-packages\n"
     ]
    }
   ],
   "source": [
    "from distutils.sysconfig import get_python_lib\n",
    "print(get_python_lib())"
   ]
  },
  {
   "cell_type": "code",
   "execution_count": 5,
   "metadata": {},
   "outputs": [
    {
     "data": {
      "text/plain": [
       "array([[5.1, 3.5, 1.4, 0.2],\n",
       "       [4.9, 3. , 1.4, 0.2],\n",
       "       [4.7, 3.2, 1.3, 0.2],\n",
       "       [4.6, 3.1, 1.5, 0.2],\n",
       "       [5. , 3.6, 1.4, 0.2]])"
      ]
     },
     "execution_count": 5,
     "metadata": {},
     "output_type": "execute_result"
    }
   ],
   "source": [
    "X, y = ds.load_iris(return_X_y=True)\n",
    "X[0:5,:]"
   ]
  },
  {
   "cell_type": "code",
   "execution_count": 6,
   "metadata": {},
   "outputs": [
    {
     "data": {
      "text/plain": [
       "(75, 4)"
      ]
     },
     "execution_count": 6,
     "metadata": {},
     "output_type": "execute_result"
    }
   ],
   "source": [
    "X_train, X_test, y_train, y_test = model_selection.train_test_split(X, y, test_size = test_size, random_state = my_seed)\n",
    "X_train.shape"
   ]
  },
  {
   "cell_type": "code",
   "execution_count": 7,
   "metadata": {},
   "outputs": [],
   "source": [
    "# Create a plotly trace\n",
    "def plotly_scatter(data, Class = None, text = None, show_text = False, marker_size = 3, \n",
    "                   colors = ['blue', 'red', 'gray'], fname = 'my-scatter'):\n",
    "    if (text is None) or not show_text:\n",
    "        mode = 'markers'  \n",
    "    else: \n",
    "        mode = 'markers+text'\n",
    "    traces = list()\n",
    "    if Class is None:\n",
    "        if data.shape[1] > 2:\n",
    "            trace = go.Scatter3d(\n",
    "                x = data[:,0],\n",
    "                y = data[:,1],\n",
    "                z = data[:,2],\n",
    "                mode = mode,\n",
    "                marker = dict(size = marker_size, color = colors[0], autocolorscale = False, \n",
    "                              showscale = False),\n",
    "                showlegend = False,\n",
    "                text = text,\n",
    "                hovertext = text,\n",
    "                hoverinfo = \"text\"\n",
    "            )\n",
    "        else:\n",
    "            trace = go.Scatter(\n",
    "                x = data[:,0],\n",
    "                y = data[:,1],\n",
    "                mode = mode,\n",
    "                marker = dict(size = marker_size, color = colors[0], autocolorscale = False, \n",
    "                              showscale = False),\n",
    "                showlegend = False,\n",
    "                text = text,\n",
    "                hovertext = text,\n",
    "                hoverinfo = \"text\"\n",
    "            )\n",
    "            \n",
    "        traces.append(trace)\n",
    "    else:\n",
    "        classes = set(Class)\n",
    "        clr = 0\n",
    "        for c in classes:\n",
    "            if text is None:\n",
    "                txt = None\n",
    "                hoverinfo = \"all\"\n",
    "            else:\n",
    "                txt = np.array(text)[Class == c]\n",
    "                hoverinfo = \"text\"\n",
    "            if data.shape[1] > 2:\n",
    "                trace = go.Scatter3d(\n",
    "                    name = c,\n",
    "                    x = data[Class == c, 0],\n",
    "                    y = data[Class == c, 1],\n",
    "                    z = data[Class == c, 2],\n",
    "                    mode = mode,\n",
    "                    marker = dict(size = marker_size, color = colors[clr], autocolorscale = False, \n",
    "                              showscale = False),\n",
    "                    showlegend = True,\n",
    "                    text = txt,\n",
    "                    hovertext = txt,\n",
    "                    hoverinfo = hoverinfo\n",
    "                )\n",
    "            else:\n",
    "                trace = go.Scatter(\n",
    "                    name = c,\n",
    "                    x = data[Class == c, 0],\n",
    "                    y = data[Class == c, 1],\n",
    "                    mode = mode,\n",
    "                    marker = dict(size = marker_size, color = colors[clr], autocolorscale = False, \n",
    "                              showscale = False),\n",
    "                    showlegend = True,\n",
    "                    text = txt,\n",
    "                    hovertext = txt,\n",
    "                    hoverinfo = hoverinfo\n",
    "                )\n",
    "                \n",
    "            traces.append(trace)\n",
    "            clr += 1\n",
    "            \n",
    "    \n",
    "    layout = go.Layout(showlegend=(Class is not None))\n",
    "    fig = go.Figure(data=traces, layout=layout)\n",
    "\n",
    "    return py.iplot(fig, filename=fname)"
   ]
  },
  {
   "cell_type": "code",
   "execution_count": 20,
   "metadata": {},
   "outputs": [],
   "source": [
    "# some variety of kernel functions\n",
    "def gauss_kernel_norm(x):\n",
    "    vars_ = [np.var(x[:, j]) for j in range(x.shape[1])]\n",
    "    \n",
    "    def calc(y, z):\n",
    "        tmp = y - z\n",
    "        return np.exp(-np.mean(tmp * tmp / vars_))\n",
    "    \n",
    "    return calc\n",
    "\n",
    "def mahalanobis_kernel_norm(x):\n",
    "    cov_ =  np.linalg.inv(np.cov(x, rowvar=False))\n",
    "    \n",
    "    def calc(y, z):\n",
    "        tmp = y - z\n",
    "        d = np.dot(np.dot(tmp.T, cov_), tmp)\n",
    "        return np.exp(-d / len(y))\n",
    "    \n",
    "    return calc\n",
    "\n",
    "def dot_kernel_norm(y, z):\n",
    "    cv = np.inner(y, z)\n",
    "    ny = np.inner(y, y)\n",
    "    nz = np.inner(z, z)\n",
    "    return cv / (np.sqrt(ny) * np.sqrt(nz))\n",
    "\n",
    "def dot_kernel(y, z):\n",
    "    cv = np.inner(y, z)\n",
    "    return cv / len(y)\n",
    "\n"
   ]
  },
  {
   "cell_type": "code",
   "execution_count": 19,
   "metadata": {},
   "outputs": [],
   "source": [
    "# Kernel (Gram) matrix calculation and centering\n",
    "def kern_matrix(data, fKernel):\n",
    "    K = np.zeros([data.shape[0], data.shape[0]]) \n",
    "    for i in range(data.shape[0]): \n",
    "        for j in range(i, data.shape[0]):\n",
    "            K[i, j] = K[j, i] = fKernel(data[i,:], data[j, :])\n",
    "    return K\n",
    "\n",
    "def kern_matrix_test(X, Y, fKernel):\n",
    "    K = np.zeros([X.shape[0], Y.shape[0]]) \n",
    "    for i in range(X.shape[0]): \n",
    "        for j in range(Y.shape[0]):\n",
    "            K[i, j] = fKernel(X[i,:], Y[j, :])\n",
    "    return K\n",
    "\n",
    "def kern_matrix_centered(data, basis_events, u, fKernel):\n",
    "    K0 = kern_matrix(basis_events, fKernel)\n",
    "    sq_norm = np.dot(u.T, np.dot(K0, u))\n",
    "    K = kern_matrix(data, fKernel)\n",
    "    Y = np.zeros([data.shape[0], basis_events.shape[0]])\n",
    "    for i in range(data.shape[0]): \n",
    "        for j in range(basis_events.shape[0]):\n",
    "            Y[i, j] = fKernel(data[i,:], basis_events[j, :])\n",
    "    y = np.dot(Y, np.reshape(u, [basis_events.shape[0], 1]))\n",
    "    \n",
    "    for j in range(K.shape[1]): \n",
    "        K[:, [j]] -= y\n",
    "    y = y.T\n",
    "    for i in range(K.shape[0]): \n",
    "        K[[i], :] -= y\n",
    "    return K + sq_norm\n",
    "\n",
    "def kern_matrix_centered_test(X, Y, basis_events, u, fKernel):\n",
    "    K0 = kern_matrix(basis_events, fKernel)\n",
    "    sq_norm = np.dot(u.T, np.dot(K0, u))\n",
    "    K = kern_matrix_test(X, Y, fKernel)\n",
    "    Z = np.zeros([X.shape[0], basis_events.shape[0]])\n",
    "    for i in range(X.shape[0]): \n",
    "        for j in range(basis_events.shape[0]):\n",
    "            Z[i, j] = fKernel(X[i,:], basis_events[j, :])\n",
    "    y = np.dot(Z, np.reshape(u, [basis_events.shape[0], 1]))\n",
    "    \n",
    "    for j in range(K.shape[1]): \n",
    "        K[:, [j]] -= y\n",
    "        \n",
    "    Z = np.zeros([Y.shape[0], basis_events.shape[0]])\n",
    "    for i in range(Y.shape[0]): \n",
    "        for j in range(basis_events.shape[0]):\n",
    "            Z[i, j] = fKernel(Y[i,:], basis_events[j, :])\n",
    "    y = np.dot(Z, np.reshape(u, [basis_events.shape[0], 1]))\n",
    "    y = y.T\n",
    "    for i in range(K.shape[0]): \n",
    "        K[[i], :] -= y\n",
    "        \n",
    "    return K + sq_norm\n"
   ]
  },
  {
   "cell_type": "code",
   "execution_count": 11,
   "metadata": {},
   "outputs": [],
   "source": [
    "# Distance-to-center related calculations\n",
    "def calc_rmin2(K):\n",
    "    k = (K - np.identity(K.shape[0])).flatten().argmax()\n",
    "    i = k // K.shape[0]\n",
    "    j = k % K.shape[0]\n",
    "    return K[i, i] + K[j, j] - 2*K[i, j]\n",
    "\n",
    "# formula for 'b_n' in the paper\n",
    "def square_dists_to_center(K, w):\n",
    "    w2 = w * w\n",
    "    w2 = w2 / np.sum(w2)\n",
    "    return K.diagonal() - 2 * np.dot(K, w2) + np.dot(np.dot(w2.transpose(), K), w2)\n",
    "\n",
    "# heuristic initial point\n",
    "def init_approx2(K, rmin2):\n",
    "    w = np.maximum(K.sum(axis=0), 0) \n",
    "    r2 = square_dists_to_center(K, np.sqrt(w))\n",
    "    a = np.sqrt(r2.max() * r2.min())\n",
    "    w = a / (a + r2)\n",
    "    r = np.sqrt(rmin2 / 2);\n",
    "    if (r > 0):\n",
    "        amax = r\n",
    "        wmax = amax / (amax + r*r)\n",
    "    else: \n",
    "        wmax = 1\n",
    "    \n",
    "    return np.minimum(w, wmax-1e-6)\n",
    "\n",
    "# scaling factor 'a'\n",
    "def scale_factor(K, w):\n",
    "    R = square_dists_to_center(K, w)\n",
    "    return np.sqrt(np.prod([R.min(), R.max()]))\n",
    "\n",
    "# scaling factor for basis events only (do we need this?)\n",
    "def scale_factor_reduced(K, w, rmin2):\n",
    "    R = square_dists_to_center(K, w)\n",
    "    R = [R.min(), R.max()]\n",
    "    rmin = [rmin2/2, rmin2/2]\n",
    "    return np.sqrt(np.prod(np.maximum(R, rmin)))\n",
    "\n",
    "# function 'J' to be minimized by 'w'\n",
    "def func_j2(w, K, debug_print = False):\n",
    "    #pdb.set_trace()\n",
    "    a = scale_factor(K, w)\n",
    "    w2 = w * w\n",
    "    sumw2 = np.sum(w2)\n",
    "    res = 0.5 * (np.sum(K.diagonal() * w2) - np.dot(np.dot(w2.transpose(), K), w2) / sumw2 + a * np.sum((1 - w)**2)) / K.shape[0]\n",
    "    if debug_print:\n",
    "        print(\"a = {}, wmin = {}, wmax = {}, value = {}\".format(a, w.min(), w.max(), res))\n",
    "    return res.flatten()[0]\n",
    "\n",
    "# pseudo-gradient of 'J' (treats scaling factor to be independent of 'w')\n",
    "def func_j2_pseudo_grad(w, K):\n",
    "    a = scale_factor(K, w)\n",
    "    w2 = w * w\n",
    "    sumw2 = np.sum(w2)\n",
    "    Kd = K.diagonal().flatten()\n",
    "    Kw2 = np.dot(w2.transpose(), K).flatten()\n",
    "    res = Kd * w - w * (Kw2 + w2 * (Kd - Kw2)) / (sumw2 * sumw2) - a * (1 - w) \n",
    "    return res / K.shape[0]\n",
    "\n"
   ]
  },
  {
   "cell_type": "code",
   "execution_count": 18,
   "metadata": {},
   "outputs": [],
   "source": [
    "def calc_pseudo_opt_weights(K, method = 'COBYLA'):\n",
    "    rmin2 = calc_rmin2(K)\n",
    "    w = init_approx2(K, rmin2)\n",
    "    print(\"Minimization of J using {}: function value at the initial point: {}\".format(method, func_j2(w, K)))\n",
    "    non_grad = set(['Nelder-Mead', 'COBYLA'])\n",
    "    if method in non_grad:\n",
    "        o = minimize(fun = func_j2, x0 = w, args = (K), method = method, options={'disp':False})\n",
    "    else:\n",
    "        o = minimize(fun = func_j2, x0 = w, args = (K), method = method, jac=func_j2_pseudo_grad, options={'disp':True})\n",
    "    print(\"Done: function value at the final point: {}\".format(o['fun']))\n",
    "    return o['x']"
   ]
  },
  {
   "cell_type": "code",
   "execution_count": 32,
   "metadata": {},
   "outputs": [],
   "source": [
    "# Sugeno measure and integral related calculations\n",
    "def SugenoMeasure(w, lmbda):\n",
    "    return reduce(lambda w, R: w + R + lmbda * w * R, w)\n",
    "\n",
    "def SugenoMeasureCum(w, lmbda):\n",
    "    res = np.zeros(len(w), dtype = float)\n",
    "    for i, x in enumerate(accumulate(w, lambda w, R: w + R + lmbda * w * R)):\n",
    "        res[i] = x\n",
    "    return res\n",
    "\n",
    "Frank0 = lambda y, Fn, K, X: sum(np.maximum(Fn[X], K[y, X])) / len(X)\n",
    "\n",
    "def SugenoInt(K, Frank, Fn, w, X, lmbda = None):\n",
    "    bx = np.array([Frank(y, Fn, K, X) for y in X], dtype=np.float)\n",
    "    ibx = (-bx).argsort()\n",
    "    jbx = X[ibx]\n",
    "    bx = bx[ibx]\n",
    "    w = w[jbx]\n",
    "    if (lmbda is None) and (len(w) > 1):\n",
    "        f = lambda x: SugenoMeasure(w, x) - 1\n",
    "        \n",
    "        m = SugenoMeasure(w, 0)\n",
    "        if (m > 1):\n",
    "            lmbda = brentq(f, -1, 0, maxiter=100, full_output=False, disp=False)\n",
    "        elif (m < 1):\n",
    "            if (m < 1e-6): # measure of X is practically zero -- need to stop \n",
    "                return []\n",
    "            \n",
    "            rb = 1\n",
    "            while m < 1:\n",
    "                m = SugenoMeasure(w, rb)\n",
    "                if m < 1:\n",
    "                    rb = 2 * rb \n",
    "            lmbda = brentq(f, 0, rb, maxiter=100, full_output=False, disp=False)\n",
    "        else: \n",
    "            lmbda = 0\n",
    "            \n",
    "        m = SugenoMeasureCum(w, lmbda)\n",
    "    else:\n",
    "        if (lmbda is None): \n",
    "            lmbda = 0\n",
    "        m = SugenoMeasureCum(w, lmbda)\n",
    "        m = m / m[-1]\n",
    "    \n",
    "    res = np.minimum(bx, m)\n",
    "    return res[np.argsort(ibx)]\n",
    "\n",
    "def BasisEvents(K, Frank, w, lmbda = None, eps = 1e-4, min_events = 3, control_singularity = False):\n",
    "    # pdb.set_trace()\n",
    "    res = []\n",
    "    N = len(w)\n",
    "    X = np.array(range(N), dtype=np.integer)\n",
    "    Fn = np.repeat(0.0, N)\n",
    "    sMax = 0.0\n",
    "    w0 = copy.deepcopy(w)\n",
    "    for i in range(N):\n",
    "        S = SugenoInt(K, Frank, Fn, w0, X, lmbda)\n",
    "        if (S is None) or (len(S) == 0): \n",
    "            break\n",
    "        Fn1 = copy.deepcopy(Fn)\n",
    "        Fn[X] = S; \n",
    "        progress = min(max(abs(Fn[X]-Fn1[X])), max(S) - sMax)\n",
    "        jmax = np.argmax(S)\n",
    "        sMax = S[jmax]\n",
    "        j = X[jmax]\n",
    "        res.append(j)\n",
    "        Xj = set(X) - set([j])\n",
    "        X = np.sort(list(Xj))\n",
    "        if (X is None) or (len(X) == 0): \n",
    "            break\n",
    "        Fn[j] = 0.0;\n",
    "        print(\"step: {}; selected: {}; sMax = {}; progress = {}\".format(i, j, sMax, progress))\n",
    "        w0[j] = 0.0\n",
    "        if (control_singularity) and (len(res) > 1):\n",
    "            Ku = K[res, :][:, res]\n",
    "            v = linalg.eigh(Ku, eigvals_only = True)\n",
    "            if (min(v) < 1e-8):\n",
    "                print(\"adding event %d leads to a singular matrix, omitting.\" % j)\n",
    "                res = res[:-1]\n",
    "                progress = 1.0\n",
    "                sMax = 0.0\n",
    "\n",
    "        if (len(res) >= min_events) and ((progress < eps) or (sMax > 1 - eps)): \n",
    "            break\n",
    "    \n",
    "    if (progress < 0) and (len(res) > min_events): \n",
    "        return res[0:(len(res)-1)] \n",
    "    else: \n",
    "        return res\n",
    "\n"
   ]
  },
  {
   "cell_type": "code",
   "execution_count": 22,
   "metadata": {},
   "outputs": [],
   "source": [
    "# Center related calculations\n",
    "def BasisEventsWeights(K, be, w):\n",
    "    b = np.dot(K[be, :], w / np.sum(w))\n",
    "    return np.linalg.solve(K[be, :][:, be], b).flatten()\n",
    "\n",
    "def square_dists_to_center_reduced(K, u, be):\n",
    "    res = K.diagonal() - 2 * np.dot(K[:, be], u) + np.dot(np.dot(u.transpose(), K[be, :][:, be]), u)\n",
    "    return res.flatten()\n",
    "\n",
    "def center_kern_matrix(K, u):\n",
    "    y = np.dot(K, u)\n",
    "    sqnorm = np.dot(u.transpose(), y)\n",
    "    for i in range(K.shape[0]):\n",
    "        K[i, :] -= y\n",
    "    for j in range(K.shape[1]):\n",
    "        K[:, j] -= y\n",
    "    return K + sqnorm\n"
   ]
  },
  {
   "cell_type": "code",
   "execution_count": 23,
   "metadata": {},
   "outputs": [],
   "source": [
    "# Non-linear eigenvector decomposition\n",
    "def nl_eigen_vectors(K, L, normalize = False):\n",
    "    N = K.shape[0]\n",
    "    w, v = linalg.eigh(K, eigvals = (N-L, N-1))\n",
    "    if (normalize):\n",
    "        for i in range(v.shape[0]):\n",
    "            v[i, :] /= np.sqrt(w) \n",
    "    return v[:,::-1]"
   ]
  },
  {
   "cell_type": "code",
   "execution_count": 24,
   "metadata": {},
   "outputs": [],
   "source": [
    "# Membership and non-linear PCA related calculations\n",
    "def predict_memberships(x, basis_events, fKernel, u, a, L = 3, normalize = True):\n",
    "    # pdb.set_trace()\n",
    "    res = np.zeros([x.shape[0], L+1])\n",
    "    K0 = kern_matrix_centered(x, basis_events, u, fKernel)\n",
    "    res[:,0] = a / (a + K0.diagonal())\n",
    "    if L > 0:\n",
    "        U = nl_eigen_vectors(K0, L, normalize=normalize)\n",
    "        tmp = np.dot(U.T, K0)\n",
    "        res[:,1:] = tmp.T\n",
    "    return res "
   ]
  },
  {
   "cell_type": "code",
   "execution_count": 29,
   "metadata": {},
   "outputs": [],
   "source": [
    "# putting all together\n",
    "def append_membership_feature(x_train, y_train, x_test, fKernel = dot_kernel_norm, cluster = 0, L = 3, normalize = True):\n",
    "    #pdb.set_trace()\n",
    "    M = x_train.shape[1]\n",
    "    data = x_train[y_train == cluster, :]\n",
    "    print(\"Calculating kernel\")\n",
    "    K = kern_matrix(data, fKernel)\n",
    "    print(\"Finding pseudo-optimal center coeffs\")\n",
    "    w = calc_pseudo_opt_weights(K)\n",
    "    w2 = w * w\n",
    "    w2 = w2 / np.sum(w2)\n",
    "    print(\"Finding principal events\")\n",
    "    be = BasisEvents(K, Frank=Frank0, w=w2, lmbda = None, eps = 1e-4, min_events = L, control_singularity = True) \n",
    "    u = BasisEventsWeights(K, be, w2)\n",
    "    r2 = square_dists_to_center(K, w)\n",
    "    a = np.sqrt(np.prod([r2.min(), r2.max()]))\n",
    "    print(\"Scale: {}, membership range: {} - {}\".format(a, a / (a + r2.max()), a / (a + r2.min())))\n",
    "\n",
    "    basis_events = data[be, :]\n",
    "    \n",
    "    print(\"Calculating memberships\")\n",
    "    y = predict_memberships(x_train, basis_events, fKernel, u, a, L = L, normalize = normalize)\n",
    "    y1 = predict_memberships(x_test, basis_events, fKernel, u, a, L = L, normalize = normalize)\n",
    "    res = {'x_train': np.append(x_train, y, axis = 1), 'x_test': np.append(x_test, y1, axis = 1), 'basis_events': basis_events, 'u':u, 'a':a}\n",
    "    print(\"Done\")\n",
    "    \n",
    "    return res"
   ]
  },
  {
   "cell_type": "code",
   "execution_count": 33,
   "metadata": {
    "scrolled": true
   },
   "outputs": [
    {
     "name": "stdout",
     "output_type": "stream",
     "text": [
      "Calculating kernel\n",
      "Finding pseudo-optimal center coeffs\n",
      "Minimization of J using COBYLA: function value at the initial point: 0.00011600072106008173\n",
      "Done: function value at the final point: 1.674590900914595e-05\n",
      "Finding principal events\n",
      "step: 0; selected: 9; sMax = 0.997380960236043; progress = 0.997380960236043\n",
      "step: 1; selected: 15; sMax = 0.9984260256280928; progress = 0.0010450653920498487\n",
      "step: 2; selected: 7; sMax = 0.9989278300268044; progress = 0.0005018043987116139\n",
      "step: 3; selected: 1; sMax = 0.9990400779038777; progress = 0.00011224787707331263\n",
      "step: 4; selected: 21; sMax = 0.9991354701977657; progress = 9.539229388799697e-05\n",
      "adding event 21 leads to a singular matrix, omitting.\n",
      "step: 5; selected: 2; sMax = 0.9991205394774028; progress = 0.6480520992902261\n",
      "adding event 2 leads to a singular matrix, omitting.\n",
      "step: 6; selected: 13; sMax = 0.9991232540907848; progress = 0.34359290334072734\n",
      "adding event 13 leads to a singular matrix, omitting.\n",
      "step: 7; selected: 4; sMax = 0.9990891438187354; progress = 0.697776707013952\n",
      "adding event 4 leads to a singular matrix, omitting.\n",
      "step: 8; selected: 12; sMax = 0.9990550130240488; progress = 0.2378286492101624\n",
      "adding event 12 leads to a singular matrix, omitting.\n",
      "step: 9; selected: 8; sMax = 0.9990366509178578; progress = 0.05436693026445627\n",
      "adding event 8 leads to a singular matrix, omitting.\n",
      "step: 10; selected: 5; sMax = 0.9985093841436524; progress = 0.42797897042072297\n",
      "adding event 5 leads to a singular matrix, omitting.\n",
      "step: 11; selected: 6; sMax = 0.9975145359062236; progress = 0.8212025907502418\n",
      "adding event 6 leads to a singular matrix, omitting.\n",
      "step: 12; selected: 10; sMax = 0.9978527711337322; progress = 0.15711922528270061\n",
      "adding event 10 leads to a singular matrix, omitting.\n",
      "step: 13; selected: 0; sMax = 0.9975317360455654; progress = 0.5528226757816539\n",
      "adding event 0 leads to a singular matrix, omitting.\n",
      "step: 14; selected: 17; sMax = 0.9981754843185943; progress = 0.5628748426194101\n",
      "adding event 17 leads to a singular matrix, omitting.\n",
      "step: 15; selected: 11; sMax = 0.9983599599330958; progress = 0.720366735210676\n",
      "adding event 11 leads to a singular matrix, omitting.\n",
      "step: 16; selected: 18; sMax = 0.9985108540487562; progress = 0.2786805957584848\n",
      "adding event 18 leads to a singular matrix, omitting.\n",
      "step: 17; selected: 19; sMax = 0.9978131893123248; progress = 0.7362630859879845\n",
      "adding event 19 leads to a singular matrix, omitting.\n",
      "step: 18; selected: 14; sMax = 0.9987768891763495; progress = 0.017154085351583248\n",
      "adding event 14 leads to a singular matrix, omitting.\n",
      "step: 19; selected: 16; sMax = 0.9995271756704728; progress = 0.008444623929416917\n",
      "adding event 16 leads to a singular matrix, omitting.\n",
      "step: 20; selected: 20; sMax = 0.9998042956504829; progress = 0.9997359884344974\n",
      "adding event 20 leads to a singular matrix, omitting.\n",
      "Scale: 4.136541499047165e-06, membership range: 0.0007339867945000902 - 0.9992660132054999\n",
      "Calculating memberships\n",
      "Done\n"
     ]
    }
   ],
   "source": [
    "z0 = append_membership_feature(X_train, y_train, X_test, fKernel = dot_kernel_norm, cluster = 0, L = 3, normalize=True)"
   ]
  },
  {
   "cell_type": "code",
   "execution_count": 34,
   "metadata": {
    "scrolled": true
   },
   "outputs": [
    {
     "name": "stdout",
     "output_type": "stream",
     "text": [
      "Calculating kernel\n",
      "Finding pseudo-optimal center coeffs\n",
      "Minimization of J using COBYLA: function value at the initial point: 0.0001840378541852153\n",
      "Done: function value at the final point: 2.358981453583084e-05\n",
      "Finding principal events\n",
      "step: 0; selected: 31; sMax = 0.9978889129926314; progress = 0.9978889129926314\n",
      "step: 1; selected: 19; sMax = 0.9982586944172733; progress = 0.0003697814246419462\n",
      "step: 2; selected: 12; sMax = 0.9984299802730103; progress = 0.00017128585573700228\n",
      "step: 3; selected: 2; sMax = 0.9984944181426271; progress = 6.443786961674025e-05\n",
      "Scale: 9.024089278250313e-06, membership range: 0.0010310102932314493 - 0.9989689897067685\n",
      "Calculating memberships\n",
      "Done\n"
     ]
    }
   ],
   "source": [
    "z1 = append_membership_feature(X_train, y_train, X_test, fKernel = dot_kernel_norm, cluster = 1, L = 3, normalize=True)"
   ]
  },
  {
   "cell_type": "code",
   "execution_count": 35,
   "metadata": {},
   "outputs": [
    {
     "name": "stdout",
     "output_type": "stream",
     "text": [
      "Calculating kernel\n",
      "Finding pseudo-optimal center coeffs\n",
      "Minimization of J using COBYLA: function value at the initial point: 0.00037437607371591797\n",
      "Done: function value at the final point: 2.4660617727302467e-05\n",
      "Finding principal events\n",
      "step: 0; selected: 4; sMax = 0.9978149983256913; progress = 0.9978149983256913\n",
      "step: 1; selected: 3; sMax = 0.9980806035855869; progress = 0.0002656052598956071\n",
      "step: 2; selected: 10; sMax = 0.9985688485789538; progress = 0.0004882449933668598\n",
      "step: 3; selected: 20; sMax = 0.9985851424068907; progress = 1.6293827936886274e-05\n",
      "Scale: 5.16040447145093e-06, membership range: 0.0008154457191053501 - 0.9991845542808947\n",
      "Calculating memberships\n",
      "Done\n"
     ]
    }
   ],
   "source": [
    "z2 = append_membership_feature(X_train, y_train, X_test, fKernel = dot_kernel_norm, cluster = 2, L = 3, normalize=True)"
   ]
  },
  {
   "cell_type": "code",
   "execution_count": 36,
   "metadata": {},
   "outputs": [],
   "source": [
    "Mb = np.concatenate((np.append(z0['x_train'][:,[4]], z0['x_test'][:,[4]], axis = 0), \n",
    "               np.append(z1['x_train'][:,[4]], z1['x_test'][:,[4]], axis = 0),\n",
    "               np.append(z2['x_train'][:,[4]], z2['x_test'][:,[4]], axis = 0)),\n",
    "               axis = 1)\n",
    "P = np.concatenate((np.append(z0['x_train'][:,-3:], z0['x_test'][:,-3:], axis = 0),\n",
    "              np.append(z1['x_train'][:,-3:], z1['x_test'][:,-3:], axis = 0),\n",
    "              np.append(z2['x_train'][:,-3:], z2['x_test'][:,-3:], axis = 0)),\n",
    "              axis = 1)\n",
    "C = np.append(y_train, y_test)\n"
   ]
  },
  {
   "cell_type": "code",
   "execution_count": 37,
   "metadata": {},
   "outputs": [
    {
     "data": {
      "text/html": [
       "<iframe id=\"igraph\" scrolling=\"no\" style=\"border:none;\" seamless=\"seamless\" src=\"https://plot.ly/~ivanlongin/14.embed\" height=\"525px\" width=\"100%\"></iframe>"
      ],
      "text/plain": [
       "<plotly.tools.PlotlyDisplay object>"
      ]
     },
     "execution_count": 37,
     "metadata": {},
     "output_type": "execute_result"
    }
   ],
   "source": [
    "labels = [\"%d: %.2f%%\" % (C[j] , 100*Mb[j,0]) for j in range(len(C))]\n",
    "plotly_scatter(data=P[:,0:3], Class = C, text = labels, marker_size = 3, fname = 'center-cetosa')"
   ]
  },
  {
   "cell_type": "code",
   "execution_count": 38,
   "metadata": {},
   "outputs": [
    {
     "data": {
      "text/html": [
       "<iframe id=\"igraph\" scrolling=\"no\" style=\"border:none;\" seamless=\"seamless\" src=\"https://plot.ly/~ivanlongin/16.embed\" height=\"525px\" width=\"100%\"></iframe>"
      ],
      "text/plain": [
       "<plotly.tools.PlotlyDisplay object>"
      ]
     },
     "execution_count": 38,
     "metadata": {},
     "output_type": "execute_result"
    }
   ],
   "source": [
    "labels = [\"%d: %.2f%%\" % (C[j] , 100*Mb[j,1]) for j in range(len(C))]\n",
    "plotly_scatter(data=P[:,3:6], Class = C, text = labels, marker_size = 3, fname = 'center-versicolor')"
   ]
  },
  {
   "cell_type": "code",
   "execution_count": 39,
   "metadata": {},
   "outputs": [
    {
     "data": {
      "text/html": [
       "<iframe id=\"igraph\" scrolling=\"no\" style=\"border:none;\" seamless=\"seamless\" src=\"https://plot.ly/~ivanlongin/18.embed\" height=\"525px\" width=\"100%\"></iframe>"
      ],
      "text/plain": [
       "<plotly.tools.PlotlyDisplay object>"
      ]
     },
     "execution_count": 39,
     "metadata": {},
     "output_type": "execute_result"
    }
   ],
   "source": [
    "labels = [\"%d: %.2f%%\" % (C[j] , 100*Mb[j,2]) for j in range(len(C))]\n",
    "plotly_scatter(data=P[:,6:9], Class = C, text = labels, marker_size = 3, fname = 'center-verginica')"
   ]
  },
  {
   "cell_type": "code",
   "execution_count": 40,
   "metadata": {},
   "outputs": [],
   "source": [
    "N_train = X_train.shape[0]\n",
    "#x_train = X_train\n",
    "#x_test = X_test\n",
    "x_train = np.append(X_train, Mb[0:N_train,[1]], axis = 1)\n",
    "x_test = np.append(X_test, Mb[N_train:,[1]], axis = 1)"
   ]
  },
  {
   "cell_type": "code",
   "execution_count": 41,
   "metadata": {},
   "outputs": [
    {
     "data": {
      "text/plain": [
       "GridSearchCV(cv=5, error_score='raise',\n",
       "       estimator=AdaBoostClassifier(algorithm='SAMME.R', base_estimator=None,\n",
       "          learning_rate=1.0, n_estimators=50, random_state=777),\n",
       "       fit_params=None, iid=True, n_jobs=8,\n",
       "       param_grid={'n_estimators': range(5, 75, 5), 'learning_rate': array([0.1, 0.2, 0.3, 0.4, 0.5, 0.6, 0.7, 0.8, 0.9, 1. , 1.1, 1.2, 1.3,\n",
       "       1.4, 1.5, 1.6, 1.7, 1.8, 1.9, 2. ])},\n",
       "       pre_dispatch='2*n_jobs', refit=True, return_train_score='warn',\n",
       "       scoring=None, verbose=0)"
      ]
     },
     "execution_count": 41,
     "metadata": {},
     "output_type": "execute_result"
    }
   ],
   "source": [
    "gs = model_selection.GridSearchCV(AdaBoostClassifier(random_state = my_seed),\n",
    "                  param_grid={'n_estimators': range(5, N_train, 5), 'learning_rate': np.linspace(0.1, 2, num = 20) },\n",
    "                  cv=5, n_jobs = 8)\n",
    "gs.fit(x_train, y_train)\n"
   ]
  },
  {
   "cell_type": "code",
   "execution_count": 42,
   "metadata": {},
   "outputs": [
    {
     "data": {
      "text/plain": [
       "AdaBoostClassifier(algorithm='SAMME.R', base_estimator=None,\n",
       "          learning_rate=1.5, n_estimators=5, random_state=777)"
      ]
     },
     "execution_count": 42,
     "metadata": {},
     "output_type": "execute_result"
    }
   ],
   "source": [
    "gs.best_estimator_"
   ]
  },
  {
   "cell_type": "code",
   "execution_count": 43,
   "metadata": {},
   "outputs": [
    {
     "data": {
      "text/html": [
       "<div>\n",
       "<style scoped>\n",
       "    .dataframe tbody tr th:only-of-type {\n",
       "        vertical-align: middle;\n",
       "    }\n",
       "\n",
       "    .dataframe tbody tr th {\n",
       "        vertical-align: top;\n",
       "    }\n",
       "\n",
       "    .dataframe thead th {\n",
       "        text-align: right;\n",
       "    }\n",
       "</style>\n",
       "<table border=\"1\" class=\"dataframe\">\n",
       "  <thead>\n",
       "    <tr style=\"text-align: right;\">\n",
       "      <th>col_0</th>\n",
       "      <th>0</th>\n",
       "      <th>1</th>\n",
       "      <th>2</th>\n",
       "    </tr>\n",
       "    <tr>\n",
       "      <th>row_0</th>\n",
       "      <th></th>\n",
       "      <th></th>\n",
       "      <th></th>\n",
       "    </tr>\n",
       "  </thead>\n",
       "  <tbody>\n",
       "    <tr>\n",
       "      <th>0</th>\n",
       "      <td>22</td>\n",
       "      <td>0</td>\n",
       "      <td>0</td>\n",
       "    </tr>\n",
       "    <tr>\n",
       "      <th>1</th>\n",
       "      <td>0</td>\n",
       "      <td>30</td>\n",
       "      <td>2</td>\n",
       "    </tr>\n",
       "    <tr>\n",
       "      <th>2</th>\n",
       "      <td>0</td>\n",
       "      <td>0</td>\n",
       "      <td>21</td>\n",
       "    </tr>\n",
       "  </tbody>\n",
       "</table>\n",
       "</div>"
      ],
      "text/plain": [
       "col_0   0   1   2\n",
       "row_0            \n",
       "0      22   0   0\n",
       "1       0  30   2\n",
       "2       0   0  21"
      ]
     },
     "execution_count": 43,
     "metadata": {},
     "output_type": "execute_result"
    }
   ],
   "source": [
    "model = AdaBoostClassifier(n_estimators=gs.best_estimator_.n_estimators, random_state=my_seed, learning_rate=gs.best_estimator_.learning_rate)\n",
    "model.fit(x_train, y_train)\n",
    "Z = model.predict(x_train)\n",
    "pd.crosstab(y_train, Z)"
   ]
  },
  {
   "cell_type": "code",
   "execution_count": 44,
   "metadata": {},
   "outputs": [
    {
     "data": {
      "text/html": [
       "<div>\n",
       "<style scoped>\n",
       "    .dataframe tbody tr th:only-of-type {\n",
       "        vertical-align: middle;\n",
       "    }\n",
       "\n",
       "    .dataframe tbody tr th {\n",
       "        vertical-align: top;\n",
       "    }\n",
       "\n",
       "    .dataframe thead th {\n",
       "        text-align: right;\n",
       "    }\n",
       "</style>\n",
       "<table border=\"1\" class=\"dataframe\">\n",
       "  <thead>\n",
       "    <tr style=\"text-align: right;\">\n",
       "      <th>col_0</th>\n",
       "      <th>0</th>\n",
       "      <th>1</th>\n",
       "      <th>2</th>\n",
       "    </tr>\n",
       "    <tr>\n",
       "      <th>row_0</th>\n",
       "      <th></th>\n",
       "      <th></th>\n",
       "      <th></th>\n",
       "    </tr>\n",
       "  </thead>\n",
       "  <tbody>\n",
       "    <tr>\n",
       "      <th>0</th>\n",
       "      <td>28</td>\n",
       "      <td>0</td>\n",
       "      <td>0</td>\n",
       "    </tr>\n",
       "    <tr>\n",
       "      <th>1</th>\n",
       "      <td>0</td>\n",
       "      <td>17</td>\n",
       "      <td>1</td>\n",
       "    </tr>\n",
       "    <tr>\n",
       "      <th>2</th>\n",
       "      <td>0</td>\n",
       "      <td>1</td>\n",
       "      <td>28</td>\n",
       "    </tr>\n",
       "  </tbody>\n",
       "</table>\n",
       "</div>"
      ],
      "text/plain": [
       "col_0   0   1   2\n",
       "row_0            \n",
       "0      28   0   0\n",
       "1       0  17   1\n",
       "2       0   1  28"
      ]
     },
     "execution_count": 44,
     "metadata": {},
     "output_type": "execute_result"
    }
   ],
   "source": [
    "Z_test = model.predict(x_test)\n",
    "pd.crosstab(y_test, Z_test)"
   ]
  },
  {
   "cell_type": "code",
   "execution_count": 45,
   "metadata": {},
   "outputs": [
    {
     "data": {
      "text/plain": [
       "array([0. , 0. , 0.2, 0.2, 0.6])"
      ]
     },
     "execution_count": 45,
     "metadata": {},
     "output_type": "execute_result"
    }
   ],
   "source": [
    "model.feature_importances_"
   ]
  }
 ],
 "metadata": {
  "kernelspec": {
   "display_name": "Python 3",
   "language": "python",
   "name": "python3"
  },
  "language_info": {
   "codemirror_mode": {
    "name": "ipython",
    "version": 3
   },
   "file_extension": ".py",
   "mimetype": "text/x-python",
   "name": "python",
   "nbconvert_exporter": "python",
   "pygments_lexer": "ipython3",
   "version": "3.6.4"
  }
 },
 "nbformat": 4,
 "nbformat_minor": 2
}
